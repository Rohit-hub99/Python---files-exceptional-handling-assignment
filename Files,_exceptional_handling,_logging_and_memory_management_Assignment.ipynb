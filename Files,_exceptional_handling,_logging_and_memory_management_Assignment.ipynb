{
  "nbformat": 4,
  "nbformat_minor": 0,
  "metadata": {
    "colab": {
      "provenance": []
    },
    "kernelspec": {
      "name": "python3",
      "display_name": "Python 3"
    },
    "language_info": {
      "name": "python"
    }
  },
  "cells": [
    {
      "cell_type": "markdown",
      "source": [
        "Theory Questions and Answers"
      ],
      "metadata": {
        "id": "uAT0rpVwXY7c"
      }
    },
    {
      "cell_type": "markdown",
      "source": [
        "# 1. What is the difference between interpreted and compiled languages ?\n",
        "  - Python is an interpreted language, but the distinction between interpreted and compiled languages is sometimes blurred due to modern execution techniques. Here’s the key difference:\n",
        "  \n",
        "   - Compiled Languages\n",
        "   - In a compiled language (e.g., C, C++), the entire source code is translated into machine code (binary executable) by a compiler before execution.\n",
        "   - The resulting binary file can be executed directly without requiring the original source code.\n",
        "   - Compilation happens once, and after that, the program runs efficiently without additional translation.\n",
        "\n",
        "   Interpreted Languages\n",
        "   - In an interpreted language, the source code is executed line by line by an interpreter at runtime.\n",
        "   - There is no separate compilation step that produces a standalone binary.\n",
        "   - This makes debugging easier, but execution is generally slower than compiled languages.\n",
        "\n",
        "\n",
        "\n",
        "# 2.  What is exception handling in Python ?\n",
        "  - Exception handling in Python is a mechanism that allows you to manage errors gracefully without crashing the program. Python provides the try-except block to handle exceptions and ensure smooth program execution\n",
        "\n",
        "\n",
        "# 3. What is the purpose of the finally block in exception handling ?\n",
        "  - The finally block in Python is used to execute cleanup code that must run regardless of whether an exception occurs or not. It is particularly useful for resource management, such as closing files, releasing locks, or disconnecting from a database.\n",
        "\n",
        "\n",
        "\n",
        "# 4. What is logging in Python ?\n",
        "  - Logging in Python is used to track events that happen when a program runs. It helps in debugging, monitoring, and troubleshooting by recording important information like errors, warnings, or general messages. Python provides the built-in logging module for this purpose.\n",
        "\n",
        "\n",
        "\n",
        "# 5. What is the significance of the __del__ method in Python ?\n",
        "  - The __del__ method in Python is a destructor that is called when an object is about to be destroyed. It is used for cleanup operations like closing files, releasing resources, or disconnecting from a database before an object is deleted.\n",
        "\n",
        "\n",
        "# 6. What is the difference between import and from ... import in Python ?\n",
        "  - Both import and from ... import are used to include modules in Python, but they work differently in terms of namespace and accessibility.\n",
        "\n",
        "  1. import Statement-\n",
        "  - Imports the entire module.\n",
        "  - Requires you to use the module name when accessing its functions or variables.\n",
        "  - Prevents name conflicts by keeping everything under the module's namespace.\n",
        "\n",
        "  2. from ... import Statement\n",
        "  - Imports specific functions or variables from a module.\n",
        "  - No need to use the module name when accessing them.\n",
        "  - Can lead to name conflicts if multiple modules have functions with the same name.\n",
        "\n",
        "\n",
        "# 7. How can you handle multiple exceptions in Python ?\n",
        "  - Python provides several ways to handle multiple exceptions efficiently. You can catch different types of exceptions using multiple except blocks, a single except block with multiple exceptions, or a generic Exception class.\n",
        "\n",
        "  1. Using Multiple except Blocks\n",
        "  - we can handle different exceptions separately by defining multiple except blocks.\n",
        "\n",
        "  2. Catching Multiple Exceptions in One except Block\n",
        "  - we can handle multiple exceptions in a single except block by using tuple.\n",
        "\n",
        "  3. Using a Generic Exception (Exception)\n",
        "  - If we don’t know what kind of error might occur, use a generic Exception class.\n",
        "\n",
        "  4. Using else with except\n",
        "  - The else block runs only if no exceptions occur.\n",
        "\n",
        "\n",
        "\n",
        "# 8. What is the purpose of the with statement when handling files in Python ?\n",
        "  - The with statement is used in file handling to ensure that a file is properly opened and closed automatically, even if an exception occurs. It simplifies resource management and prevents issues like memory leaks or file corruption.\n",
        "\n",
        "\n",
        "# 9. What is the difference between multithreading and multiprocessing ?\n",
        "  - Both multithreading and multiprocessing are techniques used for concurrent execution in Python, but they differ significantly in how they manage tasks, resources, and performance.\n",
        "\n",
        "  1. Multithreading\n",
        "  - Threading involves running multiple threads in a single process.\n",
        "  - Threads share the same memory space within a process.\n",
        "  - It’s ideal for I/O-bound tasks, such as file I/O, network communication, or user interaction.\n",
        "\n",
        "  Use Case for Multithreading:\n",
        "  - I/O-bound tasks: Reading/writing to files, interacting with a database, or handling network requests.\n",
        "\n",
        "  2. Multiprocessing\n",
        "  - Multiprocessing involves running multiple processes, each with its own memory space.\n",
        "  - Each process runs on a separate CPU core, making it ideal for CPU-bound tasks.\n",
        "\n",
        "  Use Case for Multiprocessing:\n",
        "  - CPU-bound tasks: Performing calculations, image processing, or other CPU-intensive operations.\n",
        "\n",
        "\n",
        "# 10. What are the advantages of using logging in a program ?\n",
        "  - 1. Better Debugging and Troubleshooting\n",
        "  - Logs provide a detailed history of what happened during the program execution, helping to trace errors and bugs more efficiently.\n",
        "  - Logs can capture error messages, stack traces, and contextual information, allowing developers to pinpoint the cause of issues.\n",
        "\n",
        "  2. Flexibility and Granularity\n",
        "  - Control over log levels allows you to filter log messages based on their severity (e.g., DEBUG, INFO, WARNING, ERROR, CRITICAL).\n",
        "  - You can easily adjust the verbosity of the logs without changing the codebase (e.g., switch between debug and production environments).\n",
        "  \n",
        "  3. Persistent Logging\n",
        "  - Logs can be written to files, allowing you to keep a permanent record of events, which is useful for post-mortem analysis or tracking the behavior of the system over time.\n",
        "  - You can configure the log rotation to manage file size and avoid filling up the disk.\n",
        "\n",
        "  4. Monitoring in Production\n",
        "  - Production environments often require monitoring systems that can continuously log events for audit purposes, performance metrics, or error tracking.\n",
        "  - Logs can be monitored in real-time to quickly identify and respond to issues like service interruptions or slowdowns.\n",
        "\n",
        "\n",
        "# 11. What is memory management in Python ?\n",
        "  - Memory management in Python refers to the process of allocating, using, and releasing memory in a way that optimizes the performance of the application while avoiding memory leaks or wastage. Python handles memory management automatically through a combination of techniques like automatic garbage collection, reference counting, and dynamic typing.\n",
        "\n",
        "\n",
        "# 12. What are the basic steps involved in exception handling in Python ?\n",
        "  - Exception handling in Python is done using a try-except block. It allows you to handle runtime errors, ensuring that the program can recover gracefully instead of crashing. The basic steps of exception handling involve the following components:\n",
        "\n",
        "  1. The try Block\n",
        "  - The try block is used to wrap the code that might raise an exception. This is where you attempt to execute the code that may potentially fail.\n",
        "\n",
        "  2. The except Block\n",
        "  - The except block is used to catch the exception raised in the try block. You can specify different types of exceptions to catch or use a generic except to catch all exceptions.\n",
        "\n",
        "  3. The else Block (Optional)\n",
        "  - The else block is executed if no exception occurs in the try block. This is useful when you want to execute some code only if the try block is successful.\n",
        "\n",
        "  4. The finally Block (Optional)\n",
        "  - The finally block is always executed, regardless of whether an exception occurred or not. It is typically used for clean-up actions (e.g., closing files or releasing resources).\n",
        "\n",
        "\n",
        "\n",
        "# 13. Why is memory management important in Python ?\n",
        "  - Memory management is a critical aspect of any programming language, including Python, because it directly impacts the performance, efficiency, and reliability of an application. Proper memory management ensures that an application runs smoothly, especially in long-running or resource-intensive environments.\n",
        "\n",
        "\n",
        "# 14. What is the role of try and except in exception handling ?\n",
        "  - 1. The try Block:\n",
        "   - The try block is used to wrap the code that might raise an exception (i.e., an error during execution). The idea is to attempt to execute this block of code, but if an error occurs, Python will jump to the except block to handle the exception.\n",
        "\n",
        "   Key Points:\n",
        "   - It is the first part of exception handling.\n",
        "  Contains the code that could potentially raise an exception.\n",
        "  If no exception occurs, the code inside the except block is skipped.\n",
        "\n",
        "  2. The except Block:\n",
        "   - The except block is used to catch and handle the exception that is raised inside the try block. This is where you define how the program should behave if an error occurs, preventing the program from crashing.\n",
        "\n",
        "   Key Points:\n",
        "   - It follows the try block.\n",
        "   - It handles specific exceptions or can handle all exceptions in general.\n",
        "   - If an exception occurs in the try block, Python jumps to the corresponding except block.\n",
        "   - You can specify the type of exception you want to handle (e.g., ZeroDivisionError, ValueError, etc.).\n",
        "\n",
        "  \n",
        "\n",
        "# 15. How does Python's garbage collection system work ?\n",
        "  - Python uses a built-in garbage collection (GC) system to automatically manage memory and reclaim unused memory occupied by objects that are no longer referenced in the program. This system plays a key role in preventing memory leaks and improving memory efficiency.\n",
        "\n",
        "\n",
        "# 16. What is the purpose of the else block in exception handling ?\n",
        "  - In Python's exception handling structure, the else block plays an important role in handling successful execution of the code inside the try block, when no exceptions are raised.\n",
        "\n",
        "  The else block is optional and follows after all the except blocks, but it only runs if no exceptions occur in the try block. This provides a way to execute code only when the try block is successful, without mixing it up with error-handling code in the except block.\n",
        "\n",
        "\n",
        "# 17. What are the common logging levels in Python ?\n",
        "  - 1. DEBUG\n",
        "   - Description: The lowest level of logging. Used for diagnostic information and detailed debugging.\n",
        "   - Purpose: This level is typically used to output detailed information that may help trace a problem or analyze the flow of the program. It's generally not needed in production.\n",
        "   - Numeric Value: 10\n",
        "    \n",
        "    2. INFO\n",
        "   - Description: Used for informational messages that track the general flow of the program.\n",
        "   - Purpose: This level is often used to log general operational information, such as the completion of major steps in a program or system initialization.\n",
        "   - Numeric Value: 20\n",
        "\n",
        "    3. WARNING\n",
        "   - Description: Indicates that something unexpected happened, but the program is still functioning as expected.\n",
        "   - Purpose: Used for non-critical issues that do not affect the execution of the program but should be noted (e.g., minor configuration issues, deprecated features, etc.).\n",
        "   - Numeric Value: 30\n",
        "\n",
        "    4. ERROR\n",
        "   - Description: Used when a more serious issue occurs that affects the program’s execution.\n",
        "   - Purpose: This level is typically used to log exceptions or unexpected errors that hinder the normal flow of the program but don't cause the program to crash entirely.\n",
        "   - Numeric Value: 40\n",
        "\n",
        "\n",
        "# 18.  What is the difference between os.fork() and multiprocessing in Python ?\n",
        "  - 1. os.fork() (Low-level Process Creation)\n",
        "   - os.fork() is a low-level system call in Python that is available on Unix-like systems (Linux, macOS). It creates a new child process by duplicating the parent process.\n",
        "\n",
        "   Key Points:\n",
        "  - Platform Support: Only available on Unix-based systems (Linux, macOS). It does not work on Windows.\n",
        "  - How it works: The fork() function creates a new child process by copying the parent process' memory space. Both the parent and the child processes continue execution from the point where fork() was called. The difference is that fork() returns two different values:\n",
        "     - 0 to the child process.\n",
        "     - The child's process ID (PID) to the parent process.\n",
        "  - No Inter-Process Communication (IPC): fork() creates processes that are independent. Communication between processes must be explicitly managed (via pipes, files, etc.).\n",
        "  - Not a Portable Solution: Since os.fork() is specific to Unix-like systems, it cannot be used on Windows.\n",
        "\n",
        "\n",
        "   2. multiprocessing (High-Level Process Creation)\n",
        "    - The multiprocessing module provides a higher-level interface for creating and managing processes in Python. It works on both Unix-like systems and Windows and is recommended for most concurrent processing tasks.\n",
        "\n",
        "  Key Points:\n",
        "   - Cross-Platform: Unlike os.fork(), multiprocessing works on both Unix and Windows.\n",
        "   - Process Creation: multiprocessing abstracts away low-level process creation and handles platform-specific issues. It creates separate processes with independent memory space.\n",
        "   - Inter-Process Communication (IPC): multiprocessing supports easy communication between processes via queues, pipes, or shared memory.\n",
        "   - Process Pooling: multiprocessing provides utilities like Pool to manage a pool of worker processes for parallel task execution, which simplifies parallel programming.\n",
        "   - Daemon Processes: It can also spawn daemon processes, which are processes that run in the background and automatically terminate when the main program exits.\n",
        "\n",
        "\n",
        "# 19. What is the importance of closing a file in Python ?\n",
        "  - When you open a file in Python (using the open() function), the operating system allocates resources to manage the file. These resources include things like memory buffers, file descriptors, and file handles, which are essential for reading from and writing to the file. Closing the file is crucial to ensure that these resources are released properly and to prevent potential problems in your program. Here's a more detailed breakdown of why closing a file is important:\n",
        "\n",
        "\n",
        "# 20. What is the difference between file.read() and file.readline() in Python ?\n",
        "  -  1. file.read()\n",
        "    - Purpose: Reads the entire content of the file as a single string.\n",
        "    - How it works: When you call file.read(), it reads all the data from the file and returns it as one long string, including newlines and all characters.\n",
        "    - Use case: Use file.read() when you need to read the entire file content at once or when the file isn't too large to fit into memory.\n",
        "\n",
        "    2. file.readline()\n",
        "    - Purpose: Reads a single line from the file at a time.\n",
        "    - How it works: Each time you call file.readline(), it reads and returns one line from the file. It includes the newline character \\n at the end of the line (unless it's the last line of the file).\n",
        "    - Use case: Use file.readline() when you want to read a file line by line or when you are processing a large file and want to avoid loading the entire content into memory at once.\n",
        "\n",
        "\n",
        "# 21.  What is the logging module in Python used for ?\n",
        "  - The logging module in Python is used for tracking events that occur during the execution of a program. It allows you to record log messages with different severity levels and can output those messages to different destinations (e.g., the console, files, or external systems). This is crucial for debugging, monitoring, and troubleshooting issues in your application.\n",
        "\n",
        "\n",
        "# 22. What is the os module in Python used for in file handling ?\n",
        "  - The os module in Python provides a way to interact with the operating system and perform file and directory operations. It is particularly useful for tasks that are related to file handling and working with the file system, such as creating, deleting, renaming files, and checking for file existence.\n",
        "\n",
        "  The os module complements Python’s built-in file handling functions by offering additional features and functionality that interact directly with the underlying operating system.\n",
        "\n",
        "\n",
        "\n",
        "# 23. What are the challenges associated with memory management in Python ?\n",
        "  - Memory management in Python can be quite efficient, but it also presents several challenges that developers need to be aware of, especially when dealing with large datasets, complex applications, or long-running processes. Here are the key challenges associated with memory management in Python:\n",
        "\n",
        "  1. Automatic Memory Management (Garbage Collection)\n",
        "  - Python uses automatic memory management, relying on a garbage collector to handle memory allocation and deallocation.\n",
        "\n",
        "  2. Memory Leaks\n",
        "  - A memory leak occurs when the program doesn’t release memory that is no longer in use. Even though Python uses garbage collection, certain situations can lead to memory leaks\n",
        "\n",
        "  3. Fragmentation\n",
        "  - Memory fragmentation refers to inefficient memory allocation that leads to unused spaces within memory. Even though Python’s memory manager tries to optimize memory usage, fragmentation can still occur, especially when small memory allocations are made and freed frequently.\n",
        "\n",
        "  4. Reference Counting\n",
        "  - Python uses reference counting as its primary method of memory management, meaning it keeps track of how many references there are to each object. When the reference count of an object drops to zero, the memory is automatically reclaimed.  \n",
        "\n",
        "\n",
        "# 24.  How do you raise an exception manually in Python ?\n",
        "  - In Python, we can manually raise an exception using the raise keyword. This allows you to trigger an exception deliberately in your code when a certain condition or situation occurs, which can help with error handling or enforcing certain conditions.\n",
        "\n",
        "  Here’s the basic syntax for raising an exception:\n",
        "\n",
        "  raise Exception(\"Your error message\")\n",
        "\n",
        "  we can replace Exception with any specific exception type (e.g., ValueError, TypeError, etc.), depending on the nature of the error you want to raise.\n",
        "\n",
        "\n",
        "# 25. Why is it important to use multithreading in certain applications ?\n",
        "  - Multithreading can be incredibly important in certain applications due to its ability to improve the performance, responsiveness, and resource utilization of a program. It enables concurrent execution of multiple threads, which are lightweight units of a process that can run in parallel or concurrently.\n"
      ],
      "metadata": {
        "id": "NeOTF58vXoN6"
      }
    },
    {
      "cell_type": "markdown",
      "source": [
        "Practical Questions"
      ],
      "metadata": {
        "id": "eoGPRGXJR_mG"
      }
    },
    {
      "cell_type": "code",
      "source": [
        "# 1.  How can you open a file for writing in Python and write a string to it ?\n",
        "\n",
        "file = open(\"example.txt\", \"w\")\n",
        "file.write(\"Hello, World!\")\n",
        "file.close()"
      ],
      "metadata": {
        "id": "yY3lnu44SCx-"
      },
      "execution_count": 1,
      "outputs": []
    },
    {
      "cell_type": "code",
      "source": [
        "with open(\"example.txt\", \"w\") as file:\n",
        "    file.write(\"Hello, World!\") # No need to explicitly close the file when using 'with'"
      ],
      "metadata": {
        "id": "OvA_FQwISRTs"
      },
      "execution_count": 2,
      "outputs": []
    },
    {
      "cell_type": "code",
      "source": [
        "# 2. Write a Python program to read the contents of a file and print each line ?\n",
        "\n",
        "with open(\"example.txt\", \"r\") as file:\n",
        "    for line in file:\n",
        "        print(line)"
      ],
      "metadata": {
        "colab": {
          "base_uri": "https://localhost:8080/"
        },
        "id": "aqy1o6ExSd7f",
        "outputId": "bf065254-f44c-40fd-8c84-a8f41664504a"
      },
      "execution_count": 3,
      "outputs": [
        {
          "output_type": "stream",
          "name": "stdout",
          "text": [
            "Hello, World!\n"
          ]
        }
      ]
    },
    {
      "cell_type": "code",
      "source": [
        "# 3. How would you handle a case where the file doesn't exist while trying to open it for reading ?\n",
        "\n",
        "try:\n",
        "    with open(\"nonexistent_file.txt\", \"r\") as file:\n",
        "        content = file.read()\n",
        "except FileNotFoundError:\n",
        "    print(\"The file does not exist.\")\n"
      ],
      "metadata": {
        "colab": {
          "base_uri": "https://localhost:8080/"
        },
        "id": "IKyLoGXnS7-b",
        "outputId": "617ca460-cdbf-49fc-dd16-ace965e9e280"
      },
      "execution_count": 4,
      "outputs": [
        {
          "output_type": "stream",
          "name": "stdout",
          "text": [
            "The file does not exist.\n"
          ]
        }
      ]
    },
    {
      "cell_type": "code",
      "source": [
        "# 4. Write a Python script that reads from one file and writes its content to another file\n",
        "\n",
        "try:\n",
        "    with open('source.txt', 'r') as source_file, open('destination.txt', 'w') as destination_file:\n",
        "        # Read the contents of source file and write to destination file\n",
        "        for line in source_file:\n",
        "            destination_file.write(line)\n",
        "\n",
        "    print(\"File copied successfully!\")\n",
        "\n",
        "except FileNotFoundError:\n",
        "    print(\"Error: The source file does not exist!\")\n",
        "except Exception as e:\n",
        "    print(f\"An error occurred: {e}\")"
      ],
      "metadata": {
        "colab": {
          "base_uri": "https://localhost:8080/"
        },
        "id": "f60y_vC7Tp44",
        "outputId": "005e370a-b63c-44aa-cfd9-60dfaf1aca77"
      },
      "execution_count": 7,
      "outputs": [
        {
          "output_type": "stream",
          "name": "stdout",
          "text": [
            "Error: The source file does not exist!\n"
          ]
        }
      ]
    },
    {
      "cell_type": "code",
      "source": [
        "# 5. How would you catch and handle division by zero error in Python ?\n",
        "\n",
        "try:\n",
        "    # Attempt to divide by zero\n",
        "    numerator = int(input(\"Enter the numerator: \"))\n",
        "    denominator = int(input(\"Enter the denominator: \"))\n",
        "\n",
        "    result = numerator / denominator  # This may raise ZeroDivisionError\n",
        "    print(f\"Result: {result}\")\n",
        "\n",
        "except ZeroDivisionError:\n",
        "    print(\"Error: Division by zero is not allowed!\")\n",
        "\n",
        "except ValueError:\n",
        "    print(\"Error: Please enter valid numbers!\")\n",
        "\n",
        "except Exception as e:\n",
        "    print(f\"An unexpected error occurred: {e}\")\n",
        "\n",
        "finally:\n",
        "    print(\"Execution completed.\")"
      ],
      "metadata": {
        "colab": {
          "base_uri": "https://localhost:8080/"
        },
        "id": "SNpoxCTQn_y4",
        "outputId": "bd82fe74-a371-46cb-d7b2-7aace81f7020"
      },
      "execution_count": 10,
      "outputs": [
        {
          "output_type": "stream",
          "name": "stdout",
          "text": [
            "Enter the numerator: 0\n",
            "Enter the denominator: 2\n",
            "Result: 0.0\n",
            "Execution completed.\n"
          ]
        }
      ]
    },
    {
      "cell_type": "code",
      "source": [
        "# 6. Write a Python program that logs an error message to a log file when a division by zero exception occursF\n",
        "\n",
        "import logging\n",
        "\n",
        "numerator = int(input(\"Enter the numerator: \"))\n",
        "denominator = int(input(\"Enter the denominator: \"))\n",
        "\n",
        "try:\n",
        "    result = numerator / denominator\n",
        "    print(f\"Result: {result}\")\n",
        "\n",
        "except ZeroDivisionError:\n",
        "    logging.error(\"Division by zero error occurred!\")\n",
        "    print(\"Error: Division by zero is not allowed!\")"
      ],
      "metadata": {
        "colab": {
          "base_uri": "https://localhost:8080/"
        },
        "id": "kUK4-5MLpmIQ",
        "outputId": "575006a0-7fd9-426e-bc1b-02bf4547dab4"
      },
      "execution_count": 13,
      "outputs": [
        {
          "output_type": "stream",
          "name": "stdout",
          "text": [
            "Enter the numerator: 2\n",
            "Enter the denominator: 2\n",
            "Result: 1.0\n"
          ]
        }
      ]
    },
    {
      "cell_type": "code",
      "source": [
        "# 7.  How do you log information at different levels (INFO, ERROR, WARNING) in Python using the logging module ?\n",
        "\n",
        "import logging\n",
        "\n",
        "logging.basicConfig(level=logging.INFO)\n",
        "\n",
        "logging.info(\"This is an informational message.\")\n",
        "logging.warning(\"This is a warning message.\")\n",
        "logging.error(\"This is an error message.\")"
      ],
      "metadata": {
        "colab": {
          "base_uri": "https://localhost:8080/"
        },
        "id": "AYlt-r56p2ZJ",
        "outputId": "3f24c2cf-1990-486d-d1bd-7807ad5ed4d8"
      },
      "execution_count": 14,
      "outputs": [
        {
          "output_type": "stream",
          "name": "stderr",
          "text": [
            "WARNING:root:This is a warning message.\n",
            "ERROR:root:This is an error message.\n"
          ]
        }
      ]
    },
    {
      "cell_type": "code",
      "source": [
        "# 8. Write a program to handle a file opening error using exception handling ?\n",
        "\n",
        "try:\n",
        "    # Attempt to open the file\n",
        "    with open(\"example.txt\", \"r\") as file:\n",
        "        content = file.read()\n",
        "        print(\"File contents:\\n\", content)\n",
        "\n",
        "except FileNotFoundError:\n",
        "    print(\"Error: The file does not exist. Please check the file name or path.\")\n",
        "\n",
        "except PermissionError:\n",
        "    print(\"Error: You do not have permission to access this file.\")\n",
        "\n",
        "except Exception as e:\n",
        "    print(f\"An unexpected error occurred: {e}\")\n",
        "\n",
        "finally:\n",
        "    print(\"File operation attempted.\")\n",
        "\n"
      ],
      "metadata": {
        "colab": {
          "base_uri": "https://localhost:8080/"
        },
        "id": "rGQFQ1LGrJf1",
        "outputId": "d95d7611-fa69-47d1-e29d-c5c98db4edf4"
      },
      "execution_count": 15,
      "outputs": [
        {
          "output_type": "stream",
          "name": "stdout",
          "text": [
            "File contents:\n",
            " Hello, World!\n",
            "File operation attempted.\n"
          ]
        }
      ]
    },
    {
      "cell_type": "code",
      "source": [
        "# 9. How can you read a file line by line and store its content in a list in Python ?\n",
        "\n",
        "file = open(\"example.txt\", \"r\")\n",
        "lines = file.readlines()\n",
        "file.close()\n",
        "\n",
        "print(lines)"
      ],
      "metadata": {
        "colab": {
          "base_uri": "https://localhost:8080/"
        },
        "id": "0kBFEGRtrraZ",
        "outputId": "ff5896db-1355-47f9-cacb-030593463ec9"
      },
      "execution_count": 16,
      "outputs": [
        {
          "output_type": "stream",
          "name": "stdout",
          "text": [
            "['Hello, World!']\n"
          ]
        }
      ]
    },
    {
      "cell_type": "code",
      "source": [
        "# 10. How can you append data to an existing file in Python ?\n",
        "\n",
        "file = open(\"example.txt\", \"a\")\n",
        "file.write(\"\\nAppending new data.\")\n",
        "file.close()"
      ],
      "metadata": {
        "id": "lWhtoFu4r1yj"
      },
      "execution_count": 17,
      "outputs": []
    },
    {
      "cell_type": "code",
      "source": [
        "file = open(\"example.txt\", \"r\")\n",
        "content = file.read()\n",
        "file.close()\n",
        "\n",
        "print(content)"
      ],
      "metadata": {
        "colab": {
          "base_uri": "https://localhost:8080/"
        },
        "id": "p2WQO8RbsN7u",
        "outputId": "53ff192b-734b-4b6e-88f5-3cf9163166ce"
      },
      "execution_count": 20,
      "outputs": [
        {
          "output_type": "stream",
          "name": "stdout",
          "text": [
            "Hello, World!\n",
            "Appending new data.\n"
          ]
        }
      ]
    },
    {
      "cell_type": "code",
      "source": [
        "# 11. Write a Python program that uses a try-except block to handle an error when attempting to access a dictionary key that doesn't existF\n",
        "\n",
        "student_grades = {\"Alice\": 85, \"Bob\": 92, \"Charlie\": 78}\n",
        "\n",
        "try:\n",
        "    # Attempt to access a key that may not exist\n",
        "    name = input(\"Enter student name: \")  # User input\n",
        "    grade = student_grades[name]  # This may raise KeyError\n",
        "    print(f\"{name}'s grade: {grade}\")\n",
        "\n",
        "except KeyError:\n",
        "    print(\"Error: The specified student does not exist in the records.\")\n",
        "\n",
        "finally:\n",
        "    print(\"Operation completed.\")\n"
      ],
      "metadata": {
        "colab": {
          "base_uri": "https://localhost:8080/"
        },
        "id": "acDHOTc9sVy4",
        "outputId": "7c12aed6-02d4-4f16-9a75-e0e3abe115d5"
      },
      "execution_count": 21,
      "outputs": [
        {
          "output_type": "stream",
          "name": "stdout",
          "text": [
            "Enter student name: Alice\n",
            "Alice's grade: 85\n",
            "Operation completed.\n"
          ]
        }
      ]
    },
    {
      "cell_type": "code",
      "source": [
        "# 12.  Write a program that demonstrates using multiple except blocks to handle different types of exceptions\n",
        "\n",
        "try:\n",
        "    # User input for two numbers\n",
        "    num1 = int(input(\"Enter the numerator: \"))  # May raise ValueError\n",
        "    num2 = int(input(\"Enter the denominator: \"))  # May raise ValueError\n",
        "\n",
        "    # Perform division\n",
        "    result = num1 / num2  # May raise ZeroDivisionError\n",
        "    print(f\"Result: {result}\")\n",
        "\n",
        "except ZeroDivisionError:\n",
        "    print(\"Error: Division by zero is not allowed!\")\n",
        "\n",
        "except ValueError:\n",
        "    print(\"Error: Invalid input! Please enter numeric values.\")\n",
        "\n",
        "except Exception as e:\n",
        "    print(f\"An unexpected error occurred: {e}\")\n",
        "\n",
        "finally:\n",
        "    print(\"Execution completed.\")\n",
        "\n",
        "\n"
      ],
      "metadata": {
        "colab": {
          "base_uri": "https://localhost:8080/"
        },
        "id": "rNZCgZTutCBZ",
        "outputId": "cdc8ce02-82ef-40c4-a39e-3b043ca8f9c6"
      },
      "execution_count": 22,
      "outputs": [
        {
          "output_type": "stream",
          "name": "stdout",
          "text": [
            "Enter the numerator: 4\n",
            "Enter the denominator: 6\n",
            "Result: 0.6666666666666666\n",
            "Execution completed.\n"
          ]
        }
      ]
    },
    {
      "cell_type": "code",
      "source": [
        "# 13.  How would you check if a file exists before attempting to read it in Python ?\n",
        "\n",
        "import os\n",
        "\n",
        "filename = \"example.txt\"\n",
        "\n",
        "if os.path.exists(filename):\n",
        "    with open(filename, \"r\") as file:\n",
        "        content = file.read()\n",
        "        print(\"File contents:\\n\", content)\n",
        "else:\n",
        "    print(\"Error: The file does not exist.\")\n"
      ],
      "metadata": {
        "colab": {
          "base_uri": "https://localhost:8080/"
        },
        "id": "axCtss1ytxWK",
        "outputId": "0321eece-d8a4-4a1a-b0ad-53e10638c7e2"
      },
      "execution_count": 23,
      "outputs": [
        {
          "output_type": "stream",
          "name": "stdout",
          "text": [
            "File contents:\n",
            " Hello, World!\n",
            "Appending new data.\n"
          ]
        }
      ]
    },
    {
      "cell_type": "code",
      "source": [
        "# 14. Write a program that uses the logging module to log both informational and error messages\n",
        "\n",
        "import logging\n",
        "\n",
        "logging.basicConfig(level=logging.INFO)\n",
        "\n",
        "logging.info(\"This is an informational message.\")\n",
        "logging.error(\"This is an error message.\")"
      ],
      "metadata": {
        "colab": {
          "base_uri": "https://localhost:8080/"
        },
        "id": "fiM7OvGWuGad",
        "outputId": "3ba1f96f-09f4-48ca-cfa4-09d63cf358b9"
      },
      "execution_count": 24,
      "outputs": [
        {
          "output_type": "stream",
          "name": "stderr",
          "text": [
            "ERROR:root:This is an error message.\n"
          ]
        }
      ]
    },
    {
      "cell_type": "code",
      "source": [
        "# 15. Write a Python program that prints the content of a file and handles the case when the file is empty\n",
        "\n",
        "file = open(\"example.txt\", \"r\")\n",
        "content = file.read()\n",
        "file.close()\n",
        "\n",
        "if content:\n",
        "    print(\"File contents:\\n\", content)\n",
        "else:\n",
        "    print(\"Error: The file is empty.\")\n",
        "\n",
        ""
      ],
      "metadata": {
        "colab": {
          "base_uri": "https://localhost:8080/"
        },
        "id": "xazI543X1Msq",
        "outputId": "a3a34b3d-169e-4142-f69d-eaf4558041b3"
      },
      "execution_count": 25,
      "outputs": [
        {
          "output_type": "stream",
          "name": "stdout",
          "text": [
            "File contents:\n",
            " Hello, World!\n",
            "Appending new data.\n"
          ]
        }
      ]
    },
    {
      "cell_type": "code",
      "source": [
        "# 16. Demonstrate how to use memory profiling to check the memory usage of a small program\n",
        "\n",
        "import profile\n",
        "\n",
        "@profile\n",
        "def create_large_list():\n",
        "    lst = [i for i in range(1000000)]  # Creating a list with 1 million numbers\n",
        "    return lst\n",
        "\n",
        "if __name__ == \"__main__\":\n",
        "    create_large_list()"
      ],
      "metadata": {
        "id": "_4rCYOPF1qgq"
      },
      "execution_count": null,
      "outputs": []
    },
    {
      "cell_type": "code",
      "source": [
        "# 17. Write a Python program to create and write a list of numbers to a file, one number per line\n",
        "\n",
        "numbers = [1, 2, 3, 4, 5]\n",
        "\n",
        "with open(\"numbers.txt\", \"w\") as file:\n",
        "    for num in numbers:\n",
        "        file.write(str(num) + \"\\n\")\n",
        "\n",
        "        print(\"Numbers have been written to numbers.txt successfully!\")"
      ],
      "metadata": {
        "colab": {
          "base_uri": "https://localhost:8080/"
        },
        "id": "w6gZd7Ea2hiW",
        "outputId": "063a00a2-f362-45eb-b860-598e3b4b2b94"
      },
      "execution_count": 36,
      "outputs": [
        {
          "output_type": "stream",
          "name": "stdout",
          "text": [
            "Numbers have been written to numbers.txt successfully!\n",
            "Numbers have been written to numbers.txt successfully!\n",
            "Numbers have been written to numbers.txt successfully!\n",
            "Numbers have been written to numbers.txt successfully!\n",
            "Numbers have been written to numbers.txt successfully!\n"
          ]
        }
      ]
    },
    {
      "cell_type": "code",
      "source": [
        "# 18.  How would you implement a basic logging setup that logs to a file with rotation after 1MB ?\n",
        "\n",
        "import logging\n",
        "from logging.handlers import RotatingFileHandler\n",
        "\n",
        "log_handler = RotatingFileHandler('app.log', maxBytes=1_000_000, backupCount=3)\n",
        "\n",
        "log_format = logging.Formatter('%(asctime)s - %(levelname)s - %(message)s')\n",
        "\n",
        "log_handler.setFormatter(log_format)\n",
        "\n",
        "logger = logging.getLogger()\n",
        "\n",
        "logger.setLevel(logging.DEBUG)\n",
        "\n",
        "logger.addHandler(log_handler)\n",
        "\n",
        "logger.debug(\"This is a debug message.\")\n",
        "logger.info(\"This is an info message.\")\n",
        "logger.warning(\"This is a warning message.\")\n",
        "logger.error(\"This is an error message.\")\n",
        "logger.critical(\"This is a critical message.\")\n",
        "\n",
        "print(\"Logging setup with rotation is complete.\")"
      ],
      "metadata": {
        "colab": {
          "base_uri": "https://localhost:8080/"
        },
        "id": "Gd8n5BuW318f",
        "outputId": "690726f6-99d2-47a2-f777-95d2f915ec35"
      },
      "execution_count": 37,
      "outputs": [
        {
          "output_type": "stream",
          "name": "stderr",
          "text": [
            "DEBUG:root:This is a debug message.\n",
            "INFO:root:This is an info message.\n",
            "WARNING:root:This is a warning message.\n",
            "ERROR:root:This is an error message.\n",
            "CRITICAL:root:This is a critical message.\n"
          ]
        },
        {
          "output_type": "stream",
          "name": "stdout",
          "text": [
            "Logging setup with rotation is complete.\n"
          ]
        }
      ]
    },
    {
      "cell_type": "code",
      "source": [
        "# 19. Write a program that handles both IndexError and KeyError using a try-except block\n",
        "\n",
        "def handle_errors():\n",
        "    # Sample list and dictionary\n",
        "    sample_list = [1, 2, 3]\n",
        "    sample_dict = {\"a\": 1, \"b\": 2, \"c\": 3}\n",
        "\n",
        "    try:\n",
        "        # Attempt to access an invalid index in the list\n",
        "        index = int(input(\"Enter the index for the list: \"))\n",
        "        print(f\"List value at index {index}: {sample_list[index]}\")\n",
        "\n",
        "        # Attempt to access a key that might not exist in the dictionary\n",
        "        key = input(\"Enter the key for the dictionary: \")\n",
        "        print(f\"Dictionary value for key '{key}': {sample_dict[key]}\")\n",
        "\n",
        "    except IndexError:\n",
        "        print(\"Error: Index is out of range in the list!\")\n",
        "\n",
        "    except KeyError:\n",
        "        print(\"Error: The key does not exist in the dictionary!\")\n",
        "\n",
        "    except Exception as e:\n",
        "        print(f\"An unexpected error occurred: {e}\")\n",
        "\n",
        "    finally:\n",
        "        print(\"Execution completed.\")\n",
        "\n",
        "# Run the program\n",
        "handle_errors()"
      ],
      "metadata": {
        "colab": {
          "base_uri": "https://localhost:8080/"
        },
        "id": "O-62SgeU4eXQ",
        "outputId": "f399a2b8-d80a-49ae-d22a-c53ea360ce6d"
      },
      "execution_count": 38,
      "outputs": [
        {
          "output_type": "stream",
          "name": "stdout",
          "text": [
            "Enter the index for the list: 1\n",
            "List value at index 1: 2\n",
            "Enter the key for the dictionary: a\n",
            "Dictionary value for key 'a': 1\n",
            "Execution completed.\n"
          ]
        }
      ]
    },
    {
      "cell_type": "code",
      "source": [
        "# 20. How would you open a file and read its contents using a context manager in Python ?\n",
        "\n",
        "with open(\"example.txt\", \"r\") as file:\n",
        "    content = file.read()  # Read the entire contents of the file\n",
        "    print(content)"
      ],
      "metadata": {
        "colab": {
          "base_uri": "https://localhost:8080/"
        },
        "id": "5WEDeUW34s1y",
        "outputId": "6e510e27-02fa-4f0b-b54e-8187ae17b857"
      },
      "execution_count": 39,
      "outputs": [
        {
          "output_type": "stream",
          "name": "stdout",
          "text": [
            "Hello, World!\n",
            "Appending new data.\n"
          ]
        }
      ]
    },
    {
      "cell_type": "code",
      "source": [
        "# 21. Write a Python program that reads a file and prints the number of occurrences of a specific word\n",
        "\n",
        "file = open(\"example.txt\", \"r\")\n",
        "content = file.read()\n",
        "file.close()\n",
        "\n",
        "word_to_count = \"hello\"\n",
        "word_count = content.lower().count(word_to_count.lower())\n",
        "\n",
        "print(f\"The word '{word_to_count}' appears {word_count} times in the file.\")"
      ],
      "metadata": {
        "colab": {
          "base_uri": "https://localhost:8080/"
        },
        "id": "AhccI6m352Z0",
        "outputId": "81ae2607-a0d2-41f6-b5af-fb213349fea1"
      },
      "execution_count": 41,
      "outputs": [
        {
          "output_type": "stream",
          "name": "stdout",
          "text": [
            "The word 'hello' appears 1 times in the file.\n"
          ]
        }
      ]
    },
    {
      "cell_type": "code",
      "source": [
        "# 22. How can you check if a file is empty before attempting to read its contents ?\n",
        "\n",
        "file = open(\"example.txt\", \"r\")\n",
        "content = file.read()\n",
        "file.close()\n",
        "\n",
        "if content:\n",
        "    print(\"File is not empty.\")\n",
        "else:\n",
        "    print(\"File is empty.\")"
      ],
      "metadata": {
        "colab": {
          "base_uri": "https://localhost:8080/"
        },
        "id": "XMZS4YQ95_jo",
        "outputId": "bbe8b45a-251e-414f-ca23-e490d3134b72"
      },
      "execution_count": 42,
      "outputs": [
        {
          "output_type": "stream",
          "name": "stdout",
          "text": [
            "File is not empty.\n"
          ]
        }
      ]
    },
    {
      "cell_type": "code",
      "source": [
        "# 23. Write a Python program that writes to a log file when an error occurs during file handling\n",
        "\n",
        "import logging\n",
        "\n",
        "logging.basicConfig(filename='file_errors.log', level=logging.ERROR,\n",
        "                    format='%(asctime)s - %(levelname)s - %(message)s')\n",
        "\n",
        "def read_file(file_name):\n",
        "    try:\n",
        "        # Attempt to open and read the file\n",
        "        with open(file_name, 'r') as file:\n",
        "            content = file.read()\n",
        "            print(content)\n",
        "    except FileNotFoundError:\n",
        "        # Log the error if the file is not found\n",
        "        logging.error(f\"File '{file_name}' not found.\")\n",
        "        print(f\"Error: The file '{file_name}' was not found.\")\n",
        "    except Exception as e:\n",
        "        # Log any other errors\n",
        "        logging.error(f\"An error occurred: {e}\")\n",
        "        print(f\"An unexpected error occurred: {e}\")\n",
        "\n",
        "def write_file(file_name, content):\n",
        "    try:\n",
        "        # Attempt to write content to the file\n",
        "        with open(file_name, 'w') as file:\n",
        "            file.write(content)\n",
        "            print(f\"Content written to {file_name}.\")\n",
        "    except Exception as e:\n",
        "        # Log the error if any occurs\n",
        "        logging.error(f\"An error occurred while writing to '{file_name}': {e}\")\n",
        "        print(f\"An error occurred: {e}\")\n",
        "\n",
        "# Example usage\n",
        "read_file(\"non_existent_file.txt\")  # This will trigger a FileNotFoundError\n",
        "write_file(\"/restricted_file.txt\", \"Some important content\")  # This might trigger a permission error"
      ],
      "metadata": {
        "colab": {
          "base_uri": "https://localhost:8080/"
        },
        "id": "3Iqz5FCt6SkD",
        "outputId": "fd7d19de-e028-4cc6-85d9-30919076e4d1"
      },
      "execution_count": 43,
      "outputs": [
        {
          "output_type": "stream",
          "name": "stderr",
          "text": [
            "ERROR:root:File 'non_existent_file.txt' not found.\n"
          ]
        },
        {
          "output_type": "stream",
          "name": "stdout",
          "text": [
            "Error: The file 'non_existent_file.txt' was not found.\n",
            "Content written to /restricted_file.txt.\n"
          ]
        }
      ]
    },
    {
      "cell_type": "code",
      "source": [],
      "metadata": {
        "id": "NuYicYex6nOo"
      },
      "execution_count": null,
      "outputs": []
    }
  ]
}